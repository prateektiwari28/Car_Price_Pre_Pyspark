{
 "cells": [
  {
   "cell_type": "code",
   "execution_count": 14,
   "id": "432dc705",
   "metadata": {},
   "outputs": [],
   "source": [
    "from pyspark.sql import SparkSession\n",
    "spark=SparkSession.builder.appName('Car_Analysis_LR').getOrCreate()"
   ]
  },
  {
   "cell_type": "code",
   "execution_count": 15,
   "id": "35ad47c7",
   "metadata": {},
   "outputs": [],
   "source": [
    "## Read the dataset\n",
    "df_car=spark.read.csv('car data.csv',header=True,inferSchema=True)"
   ]
  },
  {
   "cell_type": "code",
   "execution_count": 16,
   "id": "0b474e03",
   "metadata": {},
   "outputs": [
    {
     "name": "stdout",
     "output_type": "stream",
     "text": [
      "root\n",
      " |-- Car_Name: string (nullable = true)\n",
      " |-- Year: integer (nullable = true)\n",
      " |-- Selling_Price: double (nullable = true)\n",
      " |-- Present_Price: double (nullable = true)\n",
      " |-- Kms_Driven: integer (nullable = true)\n",
      " |-- Fuel_Type: string (nullable = true)\n",
      " |-- Seller_Type: string (nullable = true)\n",
      " |-- Transmission: string (nullable = true)\n",
      " |-- Owner: integer (nullable = true)\n",
      "\n"
     ]
    }
   ],
   "source": [
    "df_car.printSchema()"
   ]
  },
  {
   "cell_type": "markdown",
   "id": "9e6b2983",
   "metadata": {},
   "source": [
    "### We will use Machine Learning Feature \"Vector Assembler\" for group the columns with a string values in it."
   ]
  },
  {
   "cell_type": "code",
   "execution_count": null,
   "id": "72be248d",
   "metadata": {},
   "outputs": [],
   "source": [
    "#[\"Selling_Price\",\"Owner\"]------>Independent feature"
   ]
  },
  {
   "cell_type": "code",
   "execution_count": 26,
   "id": "29e85e7b",
   "metadata": {},
   "outputs": [],
   "source": [
    "from pyspark.ml.feature import VectorAssembler\n",
    "featureassembler=VectorAssembler(inputCols=[\"Present_Price\",\"Kms_Driven\"],outputCol=\"Independent_feature\")"
   ]
  },
  {
   "cell_type": "code",
   "execution_count": 27,
   "id": "78f75c84",
   "metadata": {},
   "outputs": [
    {
     "name": "stdout",
     "output_type": "stream",
     "text": [
      "+-------------+----+-------------+-------------+----------+---------+-----------+------------+-----+-------------------+\n",
      "|     Car_Name|Year|Selling_Price|Present_Price|Kms_Driven|Fuel_Type|Seller_Type|Transmission|Owner|Independent_feature|\n",
      "+-------------+----+-------------+-------------+----------+---------+-----------+------------+-----+-------------------+\n",
      "|         ritz|2014|         3.35|         5.59|     27000|   Petrol|     Dealer|      Manual|    0|     [5.59,27000.0]|\n",
      "|          sx4|2013|         4.75|         9.54|     43000|   Diesel|     Dealer|      Manual|    0|     [9.54,43000.0]|\n",
      "|         ciaz|2017|         7.25|         9.85|      6900|   Petrol|     Dealer|      Manual|    0|      [9.85,6900.0]|\n",
      "|      wagon r|2011|         2.85|         4.15|      5200|   Petrol|     Dealer|      Manual|    0|      [4.15,5200.0]|\n",
      "|        swift|2014|          4.6|         6.87|     42450|   Diesel|     Dealer|      Manual|    0|     [6.87,42450.0]|\n",
      "|vitara brezza|2018|         9.25|         9.83|      2071|   Diesel|     Dealer|      Manual|    0|      [9.83,2071.0]|\n",
      "|         ciaz|2015|         6.75|         8.12|     18796|   Petrol|     Dealer|      Manual|    0|     [8.12,18796.0]|\n",
      "|      s cross|2015|          6.5|         8.61|     33429|   Diesel|     Dealer|      Manual|    0|     [8.61,33429.0]|\n",
      "|         ciaz|2016|         8.75|         8.89|     20273|   Diesel|     Dealer|      Manual|    0|     [8.89,20273.0]|\n",
      "|         ciaz|2015|         7.45|         8.92|     42367|   Diesel|     Dealer|      Manual|    0|     [8.92,42367.0]|\n",
      "|     alto 800|2017|         2.85|          3.6|      2135|   Petrol|     Dealer|      Manual|    0|       [3.6,2135.0]|\n",
      "|         ciaz|2015|         6.85|        10.38|     51000|   Diesel|     Dealer|      Manual|    0|    [10.38,51000.0]|\n",
      "|         ciaz|2015|          7.5|         9.94|     15000|   Petrol|     Dealer|   Automatic|    0|     [9.94,15000.0]|\n",
      "|       ertiga|2015|          6.1|         7.71|     26000|   Petrol|     Dealer|      Manual|    0|     [7.71,26000.0]|\n",
      "|        dzire|2009|         2.25|         7.21|     77427|   Petrol|     Dealer|      Manual|    0|     [7.21,77427.0]|\n",
      "|       ertiga|2016|         7.75|        10.79|     43000|   Diesel|     Dealer|      Manual|    0|    [10.79,43000.0]|\n",
      "|       ertiga|2015|         7.25|        10.79|     41678|   Diesel|     Dealer|      Manual|    0|    [10.79,41678.0]|\n",
      "|       ertiga|2016|         7.75|        10.79|     43000|   Diesel|     Dealer|      Manual|    0|    [10.79,43000.0]|\n",
      "|      wagon r|2015|         3.25|         5.09|     35500|      CNG|     Dealer|      Manual|    0|     [5.09,35500.0]|\n",
      "|          sx4|2010|         2.65|         7.98|     41442|   Petrol|     Dealer|      Manual|    0|     [7.98,41442.0]|\n",
      "+-------------+----+-------------+-------------+----------+---------+-----------+------------+-----+-------------------+\n",
      "only showing top 20 rows\n",
      "\n"
     ]
    }
   ],
   "source": [
    "df_car2=featureassembler.transform(df_car)\n",
    "df_car2.show()"
   ]
  },
  {
   "cell_type": "code",
   "execution_count": 28,
   "id": "31466e9a",
   "metadata": {},
   "outputs": [
    {
     "data": {
      "text/plain": [
       "['Car_Name',\n",
       " 'Year',\n",
       " 'Selling_Price',\n",
       " 'Present_Price',\n",
       " 'Kms_Driven',\n",
       " 'Fuel_Type',\n",
       " 'Seller_Type',\n",
       " 'Transmission',\n",
       " 'Owner',\n",
       " 'Independent_feature']"
      ]
     },
     "execution_count": 28,
     "metadata": {},
     "output_type": "execute_result"
    }
   ],
   "source": [
    "df_car2.columns"
   ]
  },
  {
   "cell_type": "code",
   "execution_count": 30,
   "id": "cf1d1485",
   "metadata": {},
   "outputs": [
    {
     "name": "stdout",
     "output_type": "stream",
     "text": [
      "+-------------------+-------------+\n",
      "|Independent_feature|Selling_Price|\n",
      "+-------------------+-------------+\n",
      "|     [5.59,27000.0]|         3.35|\n",
      "|     [9.54,43000.0]|         4.75|\n",
      "|      [9.85,6900.0]|         7.25|\n",
      "|      [4.15,5200.0]|         2.85|\n",
      "|     [6.87,42450.0]|          4.6|\n",
      "+-------------------+-------------+\n",
      "only showing top 5 rows\n",
      "\n"
     ]
    }
   ],
   "source": [
    "df_final=df_car2.select(\"Independent_feature\",\"Selling_Price\")\n",
    "df_final.show(5)"
   ]
  },
  {
   "cell_type": "code",
   "execution_count": 32,
   "id": "e7f5fac6",
   "metadata": {},
   "outputs": [],
   "source": [
    "from pyspark.ml.regression import LinearRegression\n",
    "#train test split\n",
    "train_data,test_data=df_final.randomSplit([0.75,0.25])\n",
    "regressor=LinearRegression(featuresCol='Independent_feature',labelCol=\"Selling_Price\")\n",
    "regressor=regressor.fit(train_data)"
   ]
  },
  {
   "cell_type": "markdown",
   "id": "ea878171",
   "metadata": {},
   "source": [
    "# Coefficients"
   ]
  },
  {
   "cell_type": "code",
   "execution_count": 33,
   "id": "4f3b19fe",
   "metadata": {},
   "outputs": [
    {
     "data": {
      "text/plain": [
       "DenseVector([0.5196, -0.0])"
      ]
     },
     "execution_count": 33,
     "metadata": {},
     "output_type": "execute_result"
    }
   ],
   "source": [
    "regressor.coefficients"
   ]
  },
  {
   "cell_type": "markdown",
   "id": "466f1239",
   "metadata": {},
   "source": [
    "## Intercepts"
   ]
  },
  {
   "cell_type": "code",
   "execution_count": 35,
   "id": "6a885af3",
   "metadata": {},
   "outputs": [
    {
     "data": {
      "text/plain": [
       "1.4239946266477388"
      ]
     },
     "execution_count": 35,
     "metadata": {},
     "output_type": "execute_result"
    }
   ],
   "source": [
    "regressor.intercept"
   ]
  },
  {
   "cell_type": "markdown",
   "id": "42a8452b",
   "metadata": {},
   "source": [
    "# Predictions"
   ]
  },
  {
   "cell_type": "code",
   "execution_count": 37,
   "id": "cd27fe91",
   "metadata": {},
   "outputs": [],
   "source": [
    "pred_results=regressor.evaluate(test_data)"
   ]
  },
  {
   "cell_type": "code",
   "execution_count": 38,
   "id": "7321c5e2",
   "metadata": {},
   "outputs": [
    {
     "name": "stdout",
     "output_type": "stream",
     "text": [
      "+-------------------+-------------+------------------+\n",
      "|Independent_feature|Selling_Price|        prediction|\n",
      "+-------------------+-------------+------------------+\n",
      "|     [0.32,35000.0]|         0.18|0.9202553060486405|\n",
      "|     [0.47,21000.0]|         0.27|1.2662051999814032|\n",
      "|      [0.51,4000.0]|         0.45|1.6124270419641684|\n",
      "|     [0.51,60000.0]|          0.3|0.5403990468657576|\n",
      "|     [0.52,19000.0]|         0.35|1.3304728791447809|\n",
      "|     [0.57,55000.0]|          0.2|0.6672929902056655|\n",
      "|      [0.58,1900.0]|         0.25|1.6890014428541669|\n",
      "|     [0.73,12000.0]|         0.42|1.5735964317535065|\n",
      "|      [0.74,5000.0]|         0.65|1.7127961241513519|\n",
      "|    [0.787,16000.0]|         0.65|1.5266413036922923|\n",
      "|    [0.787,75000.0]|         0.38|0.3971832374278954|\n",
      "|     [0.81,11800.0]|         0.65|1.6189946472489245|\n",
      "|     [0.826,6000.0]|          0.5|1.7383400269867018|\n",
      "|      [0.83,5500.0]|          0.4|1.7499901827185838|\n",
      "|      [0.84,5000.0]|         0.78| 1.764758054256792|\n",
      "|     [0.84,29000.0]|          0.6|1.3053174849289015|\n",
      "|     [0.87,11000.0]|         0.75|1.6654864909564515|\n",
      "|     [0.94,24000.0]|         0.51|1.4529962003109855|\n",
      "|       [0.95,500.0]|         0.72|1.9080612841217555|\n",
      "|      [0.95,1300.0]|          0.9|1.8927465984774925|\n",
      "+-------------------+-------------+------------------+\n",
      "only showing top 20 rows\n",
      "\n"
     ]
    }
   ],
   "source": [
    "pred_results.predictions.show()"
   ]
  },
  {
   "cell_type": "code",
   "execution_count": null,
   "id": "30230a9a",
   "metadata": {},
   "outputs": [],
   "source": []
  }
 ],
 "metadata": {
  "kernelspec": {
   "display_name": "Python 3",
   "language": "python",
   "name": "python3"
  },
  "language_info": {
   "codemirror_mode": {
    "name": "ipython",
    "version": 3
   },
   "file_extension": ".py",
   "mimetype": "text/x-python",
   "name": "python",
   "nbconvert_exporter": "python",
   "pygments_lexer": "ipython3",
   "version": "3.8.8"
  }
 },
 "nbformat": 4,
 "nbformat_minor": 5
}
